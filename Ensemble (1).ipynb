{
  "nbformat": 4,
  "nbformat_minor": 0,
  "metadata": {
    "colab": {
      "provenance": []
    },
    "kernelspec": {
      "name": "python3",
      "display_name": "Python 3"
    },
    "language_info": {
      "name": "python"
    }
  },
  "cells": [
    {
      "cell_type": "markdown",
      "source": [
        "1. Can we use Bagging for regression problems?\n",
        "- Yes, Bagging can be used for regression problems. Bagging Regressor is a type of ensemble learning method that combines multiple regression models to improve the accuracy and robustness of predictions.\n"
      ],
      "metadata": {
        "id": "936cZbm4pHjZ"
      }
    },
    {
      "cell_type": "markdown",
      "source": [
        "2. What is the difference between multiple model training and single model training?\n",
        "- Multiple model training involves training multiple models on the same dataset and combining their predictions, whereas single model training involves training a single model on the dataset. Multiple model training can improve accuracy and robustness, but requires more computational resources.\n"
      ],
      "metadata": {
        "id": "O16_MbVbpNqr"
      }
    },
    {
      "cell_type": "markdown",
      "source": [
        "3. Explain the concept of feature randomness in Random Forest.\n",
        "- Feature randomness in Random Forest refers to the random selection of features at each node of the decision tree. This helps to reduce the correlation between trees and improves the overall accuracy of the model.\n",
        "\n"
      ],
      "metadata": {
        "id": "HqcVGf2uprg5"
      }
    },
    {
      "cell_type": "markdown",
      "source": [
        "4. What is OOB (Out-of-Bag) error in Bagging?\n",
        "-  OOB error is a measure of the error rate of a Bagging model on the training data. It's calculated using the samples that are not included in the bootstrap sample.\n"
      ],
      "metadata": {
        "id": "mt1JkY6Mp3vC"
      }
    },
    {
      "cell_type": "markdown",
      "source": [
        "5. How can you measure the importance of features in a Random Forest model?\n",
        "- Feature importance in Random Forest can be measured using the permutation feature importance or the Gini importance. Permutation feature importance measures the decrease in model accuracy when a feature is randomly permuted, while Gini importance measures the decrease in impurity when a feature is used to split a node.\n"
      ],
      "metadata": {
        "id": "D4gKPQhbqOfc"
      }
    },
    {
      "cell_type": "markdown",
      "source": [
        "6. Explain the working principle of a Bagging Classifier.\n",
        "- A Bagging Classifier works by training multiple instances of a base classifier on different bootstrap samples of the training data. The predictions of each classifier are then combined to produce the final prediction.\n"
      ],
      "metadata": {
        "id": "KWRCFGt5qjeR"
      }
    },
    {
      "cell_type": "markdown",
      "source": [
        "7. How do you evaluate a Bagging Classifier's performance?\n",
        "A Bagging Classifier's performance can be evaluated using metrics such as accuracy, precision, recall, F1 score, and AUC-ROC.\n",
        "\n"
      ],
      "metadata": {
        "id": "0lh0jp-Lqw3T"
      }
    },
    {
      "cell_type": "markdown",
      "source": [
        "8. How does a Bagging Regressor work?\n",
        "-  A Bagging Regressor works similarly to a Bagging Classifier, but instead of classifying instances, it predicts continuous values. The predictions of each regressor are combined to produce the final prediction.\n"
      ],
      "metadata": {
        "id": "kQQPQn2Tq-oA"
      }
    },
    {
      "cell_type": "markdown",
      "source": [
        "9. What is the main advantage of ensemble techniques?\n",
        "- The main advantage of ensemble techniques is that they can improve the accuracy and robustness of predictions by combining multiple models.\n"
      ],
      "metadata": {
        "id": "ZHGnPTLrrGz3"
      }
    },
    {
      "cell_type": "markdown",
      "source": [
        "10. What is the main challenge of ensemble methods?\n",
        "-  The main challenge of ensemble methods is that they can be computationally expensive and require careful tuning of hyperparameters."
      ],
      "metadata": {
        "id": "f9E1S38WraDl"
      }
    },
    {
      "cell_type": "markdown",
      "source": [
        "11. Explain the key idea behind ensemble techniques.\n",
        "-  The key idea behind ensemble techniques is to combine multiple models to improve the accuracy and robustness of predictions.\n"
      ],
      "metadata": {
        "id": "1YEDv-ClrmhD"
      }
    },
    {
      "cell_type": "markdown",
      "source": [
        "12. What is a Random Forest Classifier?\n",
        "-   A Random Forest Classifier is a type of ensemble learning method that combines multiple decision trees to improve the accuracy and robustness of classification predictions.\n"
      ],
      "metadata": {
        "id": "x4hKCm7Wr5r7"
      }
    },
    {
      "cell_type": "markdown",
      "source": [
        "13. What are the main types of ensemble techniques?\n",
        "-  The main types of ensemble techniques are Bagging, Boosting, and Stacking.\n"
      ],
      "metadata": {
        "id": "PEhnVbJRsGEP"
      }
    },
    {
      "cell_type": "markdown",
      "source": [
        "14. What is ensemble learning in machine learning?\n",
        "-  Ensemble learning is a machine learning approach that combines multiple models to improve the accuracy and robustness of predictions.\n"
      ],
      "metadata": {
        "id": "hhF0q8IBsWyF"
      }
    },
    {
      "cell_type": "markdown",
      "source": [
        "15. When should we avoid using ensemble methods?\n",
        "- We should avoid using ensemble methods when the dataset is small or when computational resources are limited.\n"
      ],
      "metadata": {
        "id": "sJEmTkc-sfEd"
      }
    },
    {
      "cell_type": "markdown",
      "source": [
        "16. How does Bagging help in reducing overfitting?\n",
        "- Bagging helps in reducing overfitting by averaging the predictions of multiple models, which reduces the variance of the predictions.\n"
      ],
      "metadata": {
        "id": "SPVJbZPss8EC"
      }
    },
    {
      "cell_type": "markdown",
      "source": [
        "17. Why is Random Forest better than a single Decision Tree?\n",
        "-  Random Forest is better than a single Decision Tree because it combines multiple trees to improve the accuracy and robustness of predictions.\n",
        "\n"
      ],
      "metadata": {
        "id": "wyUCw02FxLBv"
      }
    },
    {
      "cell_type": "markdown",
      "source": [
        "18. What is the role of bootstrap sampling in Bagging?\n",
        "- Bootstrap sampling is used in Bagging to create different training datasets for each model. This helps to reduce overfitting and improve the accuracy of predictions.\n"
      ],
      "metadata": {
        "id": "0ZFach0bxT13"
      }
    },
    {
      "cell_type": "markdown",
      "source": [
        "19. What are some real-world applications of ensemble techniques?\n",
        "- Ensemble techniques have many real-world applications, including image classification, speech recognition, and natural language processing.\n",
        "\n"
      ],
      "metadata": {
        "id": "Ao52biPTxZjR"
      }
    },
    {
      "cell_type": "markdown",
      "source": [
        "20. What is the difference between Bagging and Boosting?\n",
        "- Bagging and Boosting are both ensemble learning methods, but Bagging combines multiple models trained on different bootstrap samples, while Boosting combines multiple models trained on the residuals of the previous models."
      ],
      "metadata": {
        "id": "77Qy7rHIxgrv"
      }
    },
    {
      "cell_type": "code",
      "source": [
        "import numpy as np\n",
        "from sklearn.datasets import make_classification, make_regression, load_breast_cancer\n",
        "from sklearn.ensemble import (\n",
        "    BaggingClassifier, BaggingRegressor,\n",
        "    RandomForestClassifier, RandomForestRegressor,\n",
        "    VotingClassifier\n",
        ")\n",
        "from sklearn.tree import DecisionTreeClassifier, DecisionTreeRegressor\n",
        "from sklearn.svm import SVC\n",
        "from sklearn.linear_model import LogisticRegression\n",
        "from sklearn.model_selection import train_test_split\n",
        "from sklearn.metrics import accuracy_score, mean_squared_error, roc_auc_score\n"
      ],
      "metadata": {
        "id": "aaKjfTNUyPoG"
      },
      "execution_count": 1,
      "outputs": []
    },
    {
      "cell_type": "code",
      "source": [
        "#1\n",
        "\n",
        "# Generate a classification dataset\n",
        "X_clf, y_clf = make_classification(n_samples=1000, n_features=20, random_state=42)\n",
        "\n",
        "# Split into train and test sets\n",
        "X_train, X_test, y_train, y_test = train_test_split(X_clf, y_clf, test_size=0.3, random_state=42)\n",
        "\n",
        "# Train a Bagging Classifier with Decision Trees\n",
        "bagging_clf = BaggingClassifier(estimator=DecisionTreeClassifier(), n_estimators=10, random_state=42)\n",
        "bagging_clf.fit(X_train, y_train)\n",
        "\n",
        "# Evaluate and print accuracy\n",
        "accuracy = accuracy_score(y_test, bagging_clf.predict(X_test))\n",
        "print(\" Bagging Classifier Accuracy:\", accuracy)\n"
      ],
      "metadata": {
        "colab": {
          "base_uri": "https://localhost:8080/"
        },
        "id": "YZnBI4xBzORv",
        "outputId": "20f1f4ed-f0d7-42a1-b699-ff17823001de"
      },
      "execution_count": 17,
      "outputs": [
        {
          "output_type": "stream",
          "name": "stdout",
          "text": [
            " Bagging Classifier Accuracy: 0.8566666666666667\n"
          ]
        }
      ]
    },
    {
      "cell_type": "code",
      "source": [],
      "metadata": {
        "id": "zyK-Cu8Z2cfT"
      },
      "execution_count": null,
      "outputs": []
    },
    {
      "cell_type": "code",
      "source": [
        "# 2\n",
        "X_reg, y_reg = make_regression(n_samples=1000, n_features=20, noise=0.1, random_state=42)\n",
        "X_train_reg, X_test_reg, y_train_reg, y_test_reg = train_test_split(X_reg, y_reg, test_size=0.3, random_state=42)\n",
        "bagging_reg = BaggingRegressor(estimator=DecisionTreeRegressor(), n_estimators=10, random_state=42)\n",
        "bagging_reg.fit(X_train_reg, y_train_reg)\n",
        "print(\" Bagging Regressor MSE:\", mean_squared_error(y_test_reg, bagging_reg.predict(X_test_reg)))"
      ],
      "metadata": {
        "colab": {
          "base_uri": "https://localhost:8080/"
        },
        "id": "Qf3wezsDzdKS",
        "outputId": "e0ab5bc8-dc70-40c6-85e1-c3f0d906feca"
      },
      "execution_count": 5,
      "outputs": [
        {
          "output_type": "stream",
          "name": "stdout",
          "text": [
            " Bagging Regressor MSE: 9325.370955742552\n"
          ]
        }
      ]
    },
    {
      "cell_type": "code",
      "source": [
        "# 3\n",
        "cancer = load_breast_cancer()\n",
        "X_cancer, y_cancer = cancer.data, cancer.target\n",
        "X_train_cancer, X_test_cancer, y_train_cancer, y_test_cancer = train_test_split(X_cancer, y_cancer, test_size=0.3, random_state=42)\n",
        "rf_cancer = RandomForestClassifier(random_state=42)\n",
        "rf_cancer.fit(X_train_cancer, y_train_cancer)\n",
        "print(\" RF Classifier Feature Importances:\", rf_cancer.feature_importances_)"
      ],
      "metadata": {
        "colab": {
          "base_uri": "https://localhost:8080/"
        },
        "id": "F9rEKCymzpyi",
        "outputId": "39a11701-78cc-4455-fe82-f5e75806a260"
      },
      "execution_count": 6,
      "outputs": [
        {
          "output_type": "stream",
          "name": "stdout",
          "text": [
            " RF Classifier Feature Importances: [0.03231189 0.0110639  0.06009233 0.05381045 0.00622336 0.00921566\n",
            " 0.08055702 0.14193444 0.00327807 0.00314028 0.01643496 0.00317191\n",
            " 0.01176976 0.02953842 0.00588079 0.00459638 0.0058159  0.00338232\n",
            " 0.00400077 0.00713457 0.07797475 0.01878567 0.07429212 0.11821686\n",
            " 0.01176917 0.01753909 0.04107958 0.12713638 0.01292945 0.00692376]\n"
          ]
        }
      ]
    },
    {
      "cell_type": "code",
      "source": [
        "# 4\n",
        "dt_reg = DecisionTreeRegressor(random_state=42)\n",
        "rf_reg = RandomForestRegressor(random_state=42)\n",
        "dt_reg.fit(X_train_reg, y_train_reg)\n",
        "rf_reg.fit(X_train_reg, y_train_reg)\n",
        "print(\" Decision Tree Regressor MSE:\", mean_squared_error(y_test_reg, dt_reg.predict(X_test_reg)))\n",
        "print(\" Random Forest Regressor MSE:\", mean_squared_error(y_test_reg, rf_reg.predict(X_test_reg)))\n"
      ],
      "metadata": {
        "colab": {
          "base_uri": "https://localhost:8080/"
        },
        "id": "G76M1Q4jzyBD",
        "outputId": "9118e0c2-b2f4-436b-d960-cf392fd8ea4a"
      },
      "execution_count": 8,
      "outputs": [
        {
          "output_type": "stream",
          "name": "stdout",
          "text": [
            " Decision Tree Regressor MSE: 22880.9967040863\n",
            " Random Forest Regressor MSE: 7375.845338518913\n"
          ]
        }
      ]
    },
    {
      "cell_type": "code",
      "source": [
        "# 5\n",
        "rf_oob = RandomForestClassifier(n_estimators=100, oob_score=True, random_state=42)\n",
        "rf_oob.fit(X_train, y_train)\n",
        "print(\" Random Forest OOB Score:\", rf_oob.oob_score_)"
      ],
      "metadata": {
        "colab": {
          "base_uri": "https://localhost:8080/"
        },
        "id": "zsoPwauRz7tz",
        "outputId": "b8a307d1-fb90-485e-81a7-95cef2a608f9"
      },
      "execution_count": 9,
      "outputs": [
        {
          "output_type": "stream",
          "name": "stdout",
          "text": [
            " Random Forest OOB Score: 0.9014285714285715\n"
          ]
        }
      ]
    },
    {
      "cell_type": "code",
      "source": [
        "# 6\n",
        "svm_bag = BaggingClassifier(estimator=SVC(probability=True), n_estimators=10, random_state=42)\n",
        "svm_bag.fit(X_train, y_train)\n",
        "print(\" Bagging SVM Accuracy:\", accuracy_score(y_test, svm_bag.predict(X_test)))"
      ],
      "metadata": {
        "colab": {
          "base_uri": "https://localhost:8080/"
        },
        "id": "D8PreJJJ0GX7",
        "outputId": "e55ac7af-dafe-47fb-9d24-b2946cdd5da5"
      },
      "execution_count": 11,
      "outputs": [
        {
          "output_type": "stream",
          "name": "stdout",
          "text": [
            " Bagging SVM Accuracy: 0.8433333333333334\n"
          ]
        }
      ]
    },
    {
      "cell_type": "code",
      "source": [
        "# 7\n",
        "tree_counts = [1, 10, 50, 100, 200]\n",
        "print(\" RF Accuracy with Different Tree Counts:\")\n",
        "for n in tree_counts:\n",
        "    rf = RandomForestClassifier(n_estimators=n, random_state=42)\n",
        "    rf.fit(X_train, y_train)\n",
        "    acc = accuracy_score(y_test, rf.predict(X_test))\n",
        "    print(f\"   - Trees: {n}, Accuracy: {acc:.4f}\")"
      ],
      "metadata": {
        "colab": {
          "base_uri": "https://localhost:8080/"
        },
        "id": "k_sanF5r0R2P",
        "outputId": "be29c653-05c5-42f6-d268-cdeec059c63e"
      },
      "execution_count": 12,
      "outputs": [
        {
          "output_type": "stream",
          "name": "stdout",
          "text": [
            " RF Accuracy with Different Tree Counts:\n",
            "   - Trees: 1, Accuracy: 0.7767\n",
            "   - Trees: 10, Accuracy: 0.8333\n",
            "   - Trees: 50, Accuracy: 0.8500\n",
            "   - Trees: 100, Accuracy: 0.8567\n",
            "   - Trees: 200, Accuracy: 0.8600\n"
          ]
        }
      ]
    },
    {
      "cell_type": "code",
      "source": [
        "# 8\n",
        "log_bag = BaggingClassifier(estimator=LogisticRegression(max_iter=1000), n_estimators=10, random_state=42)\n",
        "log_bag.fit(X_train, y_train)\n",
        "log_proba = log_bag.predict_proba(X_test)[:, 1]\n",
        "print(\"Bagging Logistic Regression AUC Score:\", roc_auc_score(y_test, log_proba))"
      ],
      "metadata": {
        "colab": {
          "base_uri": "https://localhost:8080/"
        },
        "id": "sshXyHjJ0ZZc",
        "outputId": "8eb50e38-0470-4a45-a313-05b3ccb82a97"
      },
      "execution_count": 14,
      "outputs": [
        {
          "output_type": "stream",
          "name": "stdout",
          "text": [
            "Bagging Logistic Regression AUC Score: 0.9136818687430479\n"
          ]
        }
      ]
    },
    {
      "cell_type": "code",
      "source": [
        "# 9\n",
        "print(\" RF Regressor Feature Importances:\", rf_reg.feature_importances_)\n"
      ],
      "metadata": {
        "colab": {
          "base_uri": "https://localhost:8080/"
        },
        "id": "IqfPJWNw0jjN",
        "outputId": "1c9d373e-b14b-469a-8ef7-22f5f469c5e5"
      },
      "execution_count": 15,
      "outputs": [
        {
          "output_type": "stream",
          "name": "stdout",
          "text": [
            " RF Regressor Feature Importances: [0.13839326 0.23544572 0.00828621 0.00803909 0.17436177 0.00826038\n",
            " 0.10828721 0.00864862 0.01000499 0.00792906 0.00928509 0.02036746\n",
            " 0.00858857 0.0092679  0.00860125 0.01866979 0.01075335 0.19033601\n",
            " 0.00911529 0.00735896]\n"
          ]
        }
      ]
    },
    {
      "cell_type": "code",
      "source": [
        "# 10\n",
        "ensemble = VotingClassifier(estimators=[\n",
        "    ('bag', bagging_clf),\n",
        "    ('rf', rf_cancer)\n",
        "], voting='soft')\n",
        "ensemble.fit(X_train, y_train)\n",
        "print(\" Ensemble (Bagging + RF) Accuracy:\", accuracy_score(y_test, ensemble.predict(X_test)))"
      ],
      "metadata": {
        "colab": {
          "base_uri": "https://localhost:8080/"
        },
        "id": "FCj9t2Y30ri4",
        "outputId": "1ae04b71-0d47-4663-a7e5-7ab1f5d3d5e9"
      },
      "execution_count": 16,
      "outputs": [
        {
          "output_type": "stream",
          "name": "stdout",
          "text": [
            " Ensemble (Bagging + RF) Accuracy: 0.8666666666666667\n"
          ]
        }
      ]
    },
    {
      "cell_type": "code",
      "source": [
        "#11\n",
        "from sklearn.ensemble import RandomForestClassifier\n",
        "from sklearn.model_selection import GridSearchCV\n",
        "\n",
        "param_grid = {\n",
        "    'n_estimators': [100, 200],\n",
        "    'max_depth': [None, 10, 20],\n",
        "    'min_samples_split': [2, 5]\n",
        "}\n",
        "grid_search = GridSearchCV(RandomForestClassifier(), param_grid, cv=5)\n",
        "grid_search.fit(X_train, y_train)\n",
        "print(\"Best params:\", grid_search.best_params_)\n"
      ],
      "metadata": {
        "colab": {
          "base_uri": "https://localhost:8080/"
        },
        "id": "kMjQ9Nun2eAl",
        "outputId": "e389074f-d29d-47d5-fbf9-e15a0b843571"
      },
      "execution_count": 19,
      "outputs": [
        {
          "output_type": "stream",
          "name": "stdout",
          "text": [
            "Best params: {'max_depth': None, 'min_samples_split': 2, 'n_estimators': 200}\n"
          ]
        }
      ]
    },
    {
      "cell_type": "code",
      "source": [
        "#12\n",
        "from sklearn.ensemble import BaggingRegressor\n",
        "from sklearn.tree import DecisionTreeRegressor\n",
        "\n",
        "for n in [5, 10, 50, 100]:\n",
        "    model = BaggingRegressor(estimator=DecisionTreeRegressor(), n_estimators=n)\n",
        "    model.fit(X_train, y_train)\n",
        "    print(f\"n_estimators={n}, Score: {model.score(X_test, y_test)}\")\n"
      ],
      "metadata": {
        "colab": {
          "base_uri": "https://localhost:8080/"
        },
        "id": "wsGXW23J2q5Y",
        "outputId": "bbaf4aa0-0e9b-46dc-de2f-b7700ce3044d"
      },
      "execution_count": 22,
      "outputs": [
        {
          "output_type": "stream",
          "name": "stdout",
          "text": [
            "n_estimators=5, Score: 0.5151946607341489\n",
            "n_estimators=10, Score: 0.5982202447163514\n",
            "n_estimators=50, Score: 0.5808943270300333\n",
            "n_estimators=100, Score: 0.6161001112347051\n"
          ]
        }
      ]
    },
    {
      "cell_type": "code",
      "source": [
        "#13\n",
        "rf = RandomForestClassifier().fit(X_train, y_train)\n",
        "y_pred = rf.predict(X_test)\n",
        "misclassified = X_test[y_pred != y_test]\n",
        "print(\"Misclassified Samples:\", misclassified)\n"
      ],
      "metadata": {
        "colab": {
          "base_uri": "https://localhost:8080/"
        },
        "id": "1GhI7liK2vKw",
        "outputId": "51611392-5399-4c8c-c4e1-56b9327f101f"
      },
      "execution_count": 21,
      "outputs": [
        {
          "output_type": "stream",
          "name": "stdout",
          "text": [
            "Misclassified Samples: [[ 2.89064299e+00  8.38689386e-01 -8.17095459e-01  2.52231480e-01\n",
            "   9.39029157e-01 -8.12270810e-01  1.88670448e-01 -7.15337569e-01\n",
            "  -3.67863294e-01 -3.35762004e-03  6.20997566e-01  2.74311287e+00\n",
            "   1.48615924e+00  1.54891795e+00 -1.17953018e+00 -1.95007793e+00\n",
            "   7.03795884e-01  1.48452077e+00  6.63880594e-01  5.13587588e-02]\n",
            " [-9.18447643e-02  1.00919247e-02 -9.42558006e-01 -7.36770136e-01\n",
            "  -3.22028154e-01  6.12721728e-01  1.61477879e+00  5.85904201e-01\n",
            "   5.48319628e-01 -8.44941439e-01  1.32543211e+00 -1.40681501e+00\n",
            "   2.18534042e-01 -1.41526719e+00 -6.80130918e-01  1.00947179e+00\n",
            "  -8.74353288e-02 -1.49901596e+00 -1.95830113e-01  1.66906953e+00]\n",
            " [ 7.81430630e-02  6.25999964e-02 -1.02402859e+00  1.19054859e+00\n",
            "  -9.64537795e-01  4.06784516e-01 -2.79810342e-01  2.16505607e+00\n",
            "   1.39060399e-01 -5.63947488e-01  5.05965553e-01 -7.28272202e-01\n",
            "   1.02698626e+00  2.12574031e-01 -5.88072237e-01  1.10590042e+00\n",
            "   8.61636124e-01 -8.16217245e-01 -1.03488775e-01 -1.68265869e+00]\n",
            " [ 4.60824865e-01  3.08705574e-01 -1.39968150e+00 -2.90453916e-01\n",
            "  -1.16304265e+00 -1.84854941e-01 -2.49369625e-01  1.46225460e+00\n",
            "  -8.10671054e-02  2.84754593e-01 -4.13423771e-01  3.23962137e-02\n",
            "   1.42876016e+00  1.07254180e+00 -5.56253536e-01  1.43430967e+00\n",
            "   1.04839989e+00 -1.96328915e+00  2.06994320e-01 -2.21977795e+00]\n",
            " [ 2.21253104e+00 -2.16794030e-01  2.12739776e-01 -8.25653683e-01\n",
            "  -4.31125570e-01  9.25421335e-01  7.82873735e-01  4.44773808e-01\n",
            "  -7.28077098e-01 -2.08647766e+00  4.08052847e-01  5.50797572e-01\n",
            "   3.64140296e-01  1.49363482e-01 -4.60487134e-01  7.17846691e-03\n",
            "  -3.60039269e-01  1.60489624e-01 -4.05863306e-01  2.58661148e-01]\n",
            " [ 4.15836836e-01 -1.58459156e-01  5.04287853e-01  1.34503646e-02\n",
            "  -5.07008659e-01  8.50247863e-01  2.90964730e-01  1.78477504e+00\n",
            "   9.57932055e-01 -1.07332803e+00 -5.13900627e-01 -1.19895140e+00\n",
            "  -9.28792081e-01 -2.24853056e-01 -5.22549642e-01  2.93565790e+00\n",
            "   6.00212966e-01 -4.28847926e-01 -3.53572252e-01  3.60393395e-01]\n",
            " [-4.88777045e-01  7.98149922e-01  1.41878043e-01  2.47531380e+00\n",
            "  -8.18952445e-01 -6.98644315e-01 -1.14884012e+00  1.78553015e-02\n",
            "   1.46631180e+00 -9.74884305e-01  7.03493523e-01  9.94410281e-01\n",
            "  -2.43481070e-01  8.24152363e-01 -1.20206923e+00 -8.15706048e-01\n",
            "   1.67374375e+00  3.35421320e-01  6.07442420e-01  1.25622134e+00]\n",
            " [-1.40286616e+00  1.33398548e+00 -1.77491884e-01  5.81781771e-01\n",
            "  -3.69318770e-01 -1.74247872e+00  8.24417666e-02  3.91209327e-01\n",
            "   1.11210062e+00 -7.47455654e-01 -1.57943630e+00 -8.17891842e-01\n",
            "   1.15683378e+00 -1.62231176e-02 -1.39415967e+00  3.97397023e-01\n",
            "  -1.08138990e-01 -2.80502053e-01  1.20344955e+00 -1.75097557e+00]\n",
            " [-1.40708719e+00  7.04000965e-01 -1.88612870e+00  1.19126068e+00\n",
            "   8.65289756e-01 -1.41251489e+00  5.30593129e-02 -1.46050090e+00\n",
            "  -1.27406872e-01 -6.37452855e-02 -4.76876461e-01  1.67711587e+00\n",
            "  -1.71603325e+00  6.75137056e-01 -2.08422541e-01  2.71079430e+00\n",
            "  -2.20018028e-01 -8.77484022e-01  7.96509054e-01  1.38078408e-01]\n",
            " [ 1.01714767e+00  7.43693226e-01 -4.51936138e-01 -9.61251487e-01\n",
            "   1.52877884e+00 -7.84113922e-01 -6.03437834e-01 -1.29230337e+00\n",
            "   1.04046481e-01  2.64824242e-01 -1.92101314e+00  6.55919140e-01\n",
            "  -5.49054431e-01 -2.00973337e+00 -9.77625298e-01  1.51073165e+00\n",
            "   1.23130426e+00 -1.19836155e+00  6.09589428e-01 -6.50093755e-01]\n",
            " [ 1.09180534e+00 -1.58369819e-01 -8.34184849e-01 -1.52028679e+00\n",
            "  -3.50778206e-01  7.63016350e-01 -2.26605209e+00 -1.39907843e+00\n",
            "  -2.52227792e+00  1.08151409e+00 -2.27719615e-01  7.15493097e-01\n",
            "   1.00673007e+00  4.50962635e-01 -4.29448735e-01 -1.57115235e+00\n",
            "  -7.02203615e-02  3.75418415e-02 -3.24968382e-01 -7.37379903e-01]\n",
            " [-5.13949272e-02  6.99815970e-01 -8.08794118e-01  1.53826564e+00\n",
            "   2.24468226e+00 -6.63859997e-01 -1.86426984e+00 -7.41255368e-01\n",
            "  -2.91021473e-01 -5.31775701e-01 -4.39682009e-01  1.13503686e+00\n",
            "  -1.19171913e+00 -7.00117592e-01 -9.99101782e-01 -2.08506431e-01\n",
            "   6.27702395e-01  5.96299785e-01  5.49397638e-01 -1.75243363e-01]\n",
            " [ 1.60692867e-01  3.92608915e-01 -1.04046731e+00  5.05864358e-01\n",
            "   1.72599800e+00 -4.29847423e-01 -1.45727366e+00 -3.47720970e-03\n",
            "   7.35566898e-01 -5.06704176e-01  5.79498738e-01 -2.64209285e-01\n",
            "  -7.55975291e-01  9.73337450e-01 -4.99096538e-01  3.66146526e-01\n",
            "  -6.67857305e-03 -1.88981245e-01  3.27019035e-01  5.09501383e-01]\n",
            " [ 1.86852719e+00 -4.15696488e-01 -9.46564519e-01  8.15594245e-01\n",
            "   3.08071350e-02 -8.56106740e-01  1.13052662e+00 -4.34794693e-01\n",
            "   1.84119398e-01 -1.17193393e+00  1.54075238e+00 -5.26482355e-01\n",
            "  -1.21346336e+00 -1.62297496e+00  1.93118422e+00  1.09748497e+00\n",
            "  -1.39381765e+00 -1.81905102e+00  8.30760008e-02 -5.63081077e-01]\n",
            " [ 1.07186465e-01  3.39379203e-01  8.21564125e-01 -6.84585619e-01\n",
            "  -8.03378707e-01 -2.79510214e-01  6.82652507e-01  5.19829003e-01\n",
            "   3.26563016e-01  9.98304569e-01  6.27398486e-01  2.16791278e-01\n",
            "  -8.16861500e-01  1.28098884e-01 -5.29912480e-01 -2.14713210e+00\n",
            "   3.33002129e-01 -1.50238898e+00  2.52539950e-01  2.03474916e+00]\n",
            " [ 1.05462063e+00  3.80450678e-01 -4.59220398e-01 -6.53137390e-01\n",
            "  -1.53412469e+00 -1.61127293e+00 -1.76134198e-01  5.22520766e-01\n",
            "   1.16858036e+00 -3.53858963e-01 -1.68803433e+00 -6.00747931e-01\n",
            "  -8.14685653e-01 -1.01880520e+00  7.94473041e-01 -4.55342423e-01\n",
            "   1.02477411e+00  2.16552145e+00  7.08074675e-01 -8.06509629e-01]\n",
            " [-2.47880119e-01  9.16355820e-01  6.99464247e-01  4.00000006e-01\n",
            "   1.17998853e+00 -9.68244670e-01 -1.87500739e+00 -2.26942466e-01\n",
            "  -1.04651291e-02 -9.11617302e-01  1.05221116e+00  9.74341103e-02\n",
            "  -1.76323670e+00  2.28879066e+00 -1.20237056e+00  7.82027388e-01\n",
            "  -4.28318258e-01 -1.99183963e-02  7.51799517e-01 -3.75500040e-01]\n",
            " [-1.84551442e-01  8.65658399e-01  6.87238450e-01 -1.93408775e+00\n",
            "  -8.41449514e-01 -1.33382019e+00 -4.35789730e-01  1.34218013e+00\n",
            "   9.93138150e-02  1.30986517e+00 -4.77839851e-01 -4.46065322e-02\n",
            "   6.24903595e-01  2.30806590e-02 -6.87455030e-01  1.93448575e-01\n",
            "   5.92329547e-01 -7.43453298e-02  8.47442884e-01 -8.40492986e-01]\n",
            " [-1.94249769e+00  8.95911487e-01  8.91840580e-01  1.58844718e+00\n",
            "  -1.81329347e+00 -9.00324158e-01 -1.54649707e-01  1.16721773e+00\n",
            "  -1.15570757e+00  1.07341270e+00 -1.93183043e-02  1.01630054e-01\n",
            "   8.01181764e-01 -6.84987179e-01 -1.22509603e+00  7.65402156e-01\n",
            "  -1.55422433e-01  4.98689912e-01  7.19860830e-01  1.60107431e+00]\n",
            " [-8.44324037e-01  2.08963517e-01  6.08905356e-01 -1.08605458e+00\n",
            "  -1.94956172e+00  1.55374327e-01  2.62066809e-01  1.36970111e+00\n",
            "  -4.82827591e-01 -1.13278495e+00 -3.50849430e-01 -2.21834776e+00\n",
            "   9.45869644e-01  1.25540361e+00 -6.76607745e-01 -9.00590353e-01\n",
            "   1.02484642e-01  3.50370216e-01  4.82721668e-02  2.00459631e-01]\n",
            " [-6.86732396e-01  8.82535190e-01 -1.17420230e+00 -1.39934217e+00\n",
            "   1.64787761e+00 -1.03997373e+00 -3.55934917e-01  2.30594659e+00\n",
            "   7.98566673e-01  8.59630787e-01  6.83221299e-02  1.26312515e-01\n",
            "   1.66398628e+00  7.96430367e-01 -1.04302937e+00 -3.24857926e-01\n",
            "   3.84966416e-01 -9.82019497e-01  7.59238586e-01  7.80201721e-01]\n",
            " [ 7.43009694e-01  3.54130619e-01 -6.06663941e-01 -4.02757290e-01\n",
            "   3.47412335e-02 -3.15075348e-01  8.87308962e-01 -5.30010759e-01\n",
            "   7.87273695e-01 -1.66006815e+00 -1.79714367e+00  1.74705914e+00\n",
            "   6.25076797e-01  2.55784252e-01 -5.27895493e-01  1.96110429e+00\n",
            "  -1.37164911e-01  8.25952209e-01  2.71183718e-01 -9.90860754e-01]\n",
            " [-3.13529686e-01 -2.13033721e-01  5.47264797e-01 -2.21930037e+00\n",
            "  -2.54955794e-01  8.90930278e-01  5.48883835e-01  8.58930063e-02\n",
            "   4.82687887e-01  2.98525900e+00 -1.25454260e-01  3.27879524e-01\n",
            "  -8.51406434e-01 -2.29799631e-01 -4.32773563e-01  1.75211419e-01\n",
            "   9.21801502e-01  3.67481665e-01 -3.92786068e-01  4.81866062e-01]\n",
            " [ 2.60280507e-01 -1.61543225e-01 -1.70735796e+00  5.01782736e-01\n",
            "   1.23581162e+00  8.43369509e-01 -1.11652444e+00  1.60018226e-01\n",
            "  -9.57150915e-01 -1.32604769e+00 -1.55898178e-01 -5.48287296e-01\n",
            "   1.44849923e+00  1.11739882e+00 -5.07658477e-01 -3.59768646e-01\n",
            "  -9.63758926e-01 -4.13465161e-01 -3.52783402e-01 -5.35801463e-01]\n",
            " [ 6.01936237e-01  3.52714014e-01  2.05184891e-01 -3.59692666e-01\n",
            "  -1.33672208e+00 -2.72451497e-01 -1.20153539e+00 -1.65840906e-01\n",
            "  -1.13760020e+00 -5.32793213e-01  4.47386296e-01 -4.06356851e-01\n",
            "   1.26176116e+00  1.52060090e+00 -5.70033885e-01 -1.23735369e+00\n",
            "  -4.14579623e-02  8.50004268e-01  2.56555624e-01 -6.48092536e-02]\n",
            " [-6.08591806e-01  5.38690680e-01  1.46537943e+00  6.59401790e-01\n",
            "  -1.22917103e+00 -6.03883030e-01 -1.79561322e+00  3.32346371e-01\n",
            "   2.73594573e-01  2.70921343e-01 -2.29945552e+00  1.80104520e+00\n",
            "   5.73767761e-01  3.01001234e-01 -6.69718157e-01  7.80777139e-02\n",
            "  -4.66247652e-02  1.07603436e-01  4.53312184e-01 -8.49023432e-01]\n",
            " [-2.37011970e-01 -7.07266645e-02  2.81465444e+00  1.94842340e-01\n",
            "   3.93307050e-01  6.95519167e-01 -1.04342793e-01  4.60271625e-01\n",
            "   2.79267838e-01  4.48635765e-01 -7.38057084e-01  1.81251163e-01\n",
            "   2.06361771e-01 -1.01969532e+00 -5.71308282e-01  1.46219594e+00\n",
            "   7.49900239e-01  9.61987189e-01 -2.61285069e-01  7.00700612e-01]\n",
            " [-1.55755309e-01  5.32570132e-01  2.87408270e+00 -1.88852341e+00\n",
            "   1.11694130e-01 -5.02837768e-01  2.66177865e-01 -1.64213784e-01\n",
            "   1.09097903e+00  3.67165405e-01 -1.09792636e+00  2.60706162e-01\n",
            "   7.94926018e-01 -1.07025544e+00 -7.62865683e-01  1.94401765e+00\n",
            "  -8.65461607e-02  1.10308328e+00  4.17323818e-01 -1.54462117e+00]\n",
            " [ 3.35847265e-01  4.00003849e-01  6.57376600e-02  1.34272186e+00\n",
            "   8.12914250e-02 -6.35572728e-02 -2.68368799e-01  3.80826418e-01\n",
            "  -1.24505122e+00 -1.36619834e+00  4.84591379e-01  2.67475389e-01\n",
            "  -6.48998520e-01  2.65163923e-01 -9.09010878e-01  8.83606786e-01\n",
            "   5.16396668e-01 -1.08141338e+00  2.10596330e-01  3.12865651e-01]\n",
            " [ 8.86842659e-01  4.24190516e-01  2.40487649e-01 -1.46603820e+00\n",
            "  -9.58928268e-01 -3.90562791e-01  2.83224959e-01 -1.25514907e+00\n",
            "  -7.67507037e-01  5.63404360e-01  6.74144005e-01  7.16262496e-01\n",
            "   1.79178227e+00 -1.31686227e-04 -6.18260317e-01  1.69974274e+00\n",
            "  -4.52424265e-01 -7.29996672e-01  3.29140641e-01  1.75365241e-01]\n",
            " [ 8.09861985e-01 -1.55225402e-01 -1.17414237e+00 -2.33606961e+00\n",
            "  -7.87528862e-02 -2.00306873e-01 -1.24300939e-01 -2.61945006e-01\n",
            "   2.51493670e-01 -1.01407830e-01  1.30558272e+00 -7.13310900e-01\n",
            "  -1.07046824e+00  1.73476279e+00  5.93421417e-01  3.26910864e-01\n",
            "   1.67126246e+00 -9.80009668e-02 -8.06362960e-03  4.31283817e-01]\n",
            " [-7.15992519e-02  3.32900550e-01 -1.10015423e+00  6.68741656e-01\n",
            "   7.78936504e-01 -3.19449310e-04  4.39501231e-01 -5.59601883e-03\n",
            "  -3.57029201e-01  8.49102111e-01  4.57772866e-01  1.67449243e+00\n",
            "  -3.87099702e-01 -1.09170088e+00 -8.12763023e-01  6.95537758e-01\n",
            "  -1.51787375e+00 -2.93966948e-01  1.58052988e-01 -5.58301754e-01]\n",
            " [ 5.99052568e-02  6.32023561e-01  1.34485403e+00 -5.65258739e-01\n",
            "  -7.40232253e-01 -1.05698538e+00 -7.32926038e-01 -2.38511370e+00\n",
            "   8.29118532e-02 -1.36989578e-01  2.12099357e+00  9.77847565e-01\n",
            "  -9.50690693e-01 -1.81198934e+00 -4.12959514e-01 -3.13851467e+00\n",
            "  -1.62512126e+00 -1.14194182e+00  6.45950519e-01 -3.77386517e-01]\n",
            " [-6.14038162e-01 -6.39262431e-02  1.23754643e-01  1.80152841e+00\n",
            "   8.58270430e-01 -6.71868200e-01  3.12062132e-01 -5.67447281e-01\n",
            "   1.30062540e+00 -1.78211508e+00 -1.26296294e+00 -1.91115933e+00\n",
            "   1.83117714e+00  2.02217410e+00  8.74894567e-01 -1.92981368e-01\n",
            "  -1.98073630e-01 -2.34303910e+00  1.89653652e-01  5.99097741e-02]\n",
            " [-1.13006934e+00 -4.03124262e-02  3.92623771e+00 -4.24236333e-01\n",
            "   1.72469665e+00  6.86083533e-01 -2.08411294e+00 -4.55122453e-02\n",
            "   1.25714922e+00  7.50579168e-01 -2.87447519e-01  2.87328904e-01\n",
            "   3.29508736e-01 -5.69832928e-01 -6.35500503e-01 -1.51717370e+00\n",
            "  -4.50012858e-01 -4.16194405e-01 -2.43765263e-01  5.08268640e-01]\n",
            " [ 1.45582232e+00  3.40126057e-02 -2.20556606e+00 -6.52131523e-03\n",
            "   1.27487504e+00  6.34443898e-01  8.97066197e-01 -2.01491534e-01\n",
            "   7.89056687e-01  8.19955564e-02  6.51521991e-01 -1.13768567e+00\n",
            "   6.68340489e-01  5.98794390e-01 -7.61794923e-01 -7.34173799e-01\n",
            "   7.04506540e-01  4.57280405e-01 -1.91592986e-01 -6.04744665e-01]\n",
            " [ 4.79441518e-01 -1.13584964e-02  4.54740912e-01 -1.54861830e+00\n",
            "  -1.96466583e-01  4.78962352e-01 -5.16429644e-01 -1.76774163e-01\n",
            "  -6.49765227e-01 -2.41497446e-01 -2.05859431e-01 -7.46578347e-01\n",
            "  -2.84875493e-01 -4.91153747e-01 -4.84644577e-01 -2.56179752e-01\n",
            "   8.74517074e-01 -6.17641999e-02 -1.62211794e-01 -3.36125647e-02]\n",
            " [-1.74646673e+00  3.83429480e-02 -4.98633896e-01 -1.49403779e+00\n",
            "  -3.41821820e-01  4.12510252e-01 -9.51184370e-01 -5.64196180e-01\n",
            "  -1.04715757e+00 -1.68259134e-01 -1.00692736e+00  4.78253198e-02\n",
            "  -4.97672523e-01  1.25514579e+00 -5.34950064e-01 -1.26813680e+00\n",
            "   3.31647667e-01  6.83715660e-02 -1.16872533e-01  3.59738975e-01]\n",
            " [-1.06925449e+00 -3.65819408e-01 -2.19669452e-01  1.03715890e+00\n",
            "  -1.55537373e+00  1.25253908e+00  6.09526045e-01  4.12874556e-02\n",
            "   2.32467331e+00  1.35924567e-01  2.00845093e-01  1.00791073e-01\n",
            "   1.47807190e+00  3.34438515e-01 -4.46441012e-01 -9.93589516e-01\n",
            "   9.56295002e-01  8.44667864e-02 -5.83675487e-01 -1.17892349e+00]\n",
            " [ 1.14339811e+00  9.71595629e-02 -4.92918275e-01  1.66293145e+00\n",
            "  -1.32395108e+00 -5.74681857e-01 -2.01021665e+00  6.57886486e-02\n",
            "   7.12481764e-01 -1.24921595e-01  1.80763081e+00  1.64142863e+00\n",
            "  -2.43410303e-01 -1.60074487e-01  3.77476167e-01  5.65106485e-02\n",
            "   1.50135654e-01 -2.15196324e-01  2.34261706e-01 -8.25291961e-01]\n",
            " [ 1.10844460e+00  3.50605139e-01  9.76506589e-01  1.12068571e+00\n",
            "  -2.04932474e-01 -1.11941940e+00 -2.07213512e+00  3.85212652e-01\n",
            "   3.94881490e-01  1.80350636e-03 -5.63209734e-01 -7.01957298e-01\n",
            "   2.05486428e-01 -1.33278715e-01  3.41191991e-01  1.14308753e-01\n",
            "   2.95195368e-01 -1.08934264e+00  5.32870647e-01  1.57346568e-01]\n",
            " [-7.49171727e-01  4.44672242e-02 -1.50287061e+00 -6.11633737e-01\n",
            "  -6.61541443e-01  5.21718742e-01 -7.45942126e-01 -8.56348518e-01\n",
            "   2.10496299e-01 -1.10005499e-01  7.53419464e-01 -6.14538784e-01\n",
            "   1.30433744e-02  1.11863233e+00 -6.66738307e-01 -1.79251025e-01\n",
            "   1.31550829e+00  1.29206033e+00 -1.49724022e-01 -1.23956229e+00]\n",
            " [-7.42521075e-02  1.59948883e+00  6.04024847e-01  1.94174612e+00\n",
            "   8.88229623e-02 -1.80229066e+00 -1.65990556e+00 -8.54188328e-02\n",
            "   1.12748938e-01 -2.11167998e-03  2.43598512e+00 -1.33501625e+00\n",
            "  -5.13396681e-01  1.10417516e+00 -1.97866173e+00  2.06135380e-01\n",
            "  -2.79966133e-01 -7.48071804e-01  1.34900431e+00  5.27568116e-01]]\n"
          ]
        }
      ]
    },
    {
      "cell_type": "code",
      "source": [
        "#14\n",
        "from sklearn.tree import DecisionTreeClassifier\n",
        "from sklearn.ensemble import BaggingClassifier\n",
        "\n",
        "dt = DecisionTreeClassifier().fit(X_train, y_train)\n",
        "bag = BaggingClassifier(estimator=DecisionTreeClassifier(), n_estimators=50).fit(X_train, y_train)\n",
        "print(\"Decision Tree Accuracy:\", dt.score(X_test, y_test))\n",
        "print(\"Bagging Classifier Accuracy:\", bag.score(X_test, y_test))\n"
      ],
      "metadata": {
        "colab": {
          "base_uri": "https://localhost:8080/"
        },
        "id": "CiUdP1D028Md",
        "outputId": "6d683e07-a3a1-461c-f392-53d5b423bf54"
      },
      "execution_count": 24,
      "outputs": [
        {
          "output_type": "stream",
          "name": "stdout",
          "text": [
            "Decision Tree Accuracy: 0.85\n",
            "Bagging Classifier Accuracy: 0.8633333333333333\n"
          ]
        }
      ]
    },
    {
      "cell_type": "code",
      "source": [
        "#15\n",
        "from sklearn.metrics import ConfusionMatrixDisplay\n",
        "\n",
        "rf = RandomForestClassifier().fit(X_train, y_train)\n",
        "ConfusionMatrixDisplay.from_estimator(rf, X_test, y_test)\n"
      ],
      "metadata": {
        "colab": {
          "base_uri": "https://localhost:8080/",
          "height": 467
        },
        "id": "jmFQ0VuA3FCl",
        "outputId": "73853268-7724-4171-a5bc-13efbd6feaf0"
      },
      "execution_count": 25,
      "outputs": [
        {
          "output_type": "execute_result",
          "data": {
            "text/plain": [
              "<sklearn.metrics._plot.confusion_matrix.ConfusionMatrixDisplay at 0x7b96600392d0>"
            ]
          },
          "metadata": {},
          "execution_count": 25
        },
        {
          "output_type": "display_data",
          "data": {
            "text/plain": [
              "<Figure size 640x480 with 2 Axes>"
            ],
            "image/png": "[encoded data removed]"
          },
          "metadata": {}
        }
      ]
    },
    {
      "cell_type": "code",
      "source": [
        "#16\n",
        "from sklearn.ensemble import StackingClassifier\n",
        "from sklearn.svm import SVC\n",
        "from sklearn.linear_model import LogisticRegression\n",
        "\n",
        "estimators = [\n",
        "    ('dt', DecisionTreeClassifier()),\n",
        "    ('svm', SVC(probability=True)),\n",
        "]\n",
        "stack = StackingClassifier(estimators=estimators, final_estimator=LogisticRegression())\n",
        "stack.fit(X_train, y_train)\n",
        "print(\"Stacking Accuracy:\", stack.score(X_test, y_test))\n"
      ],
      "metadata": {
        "colab": {
          "base_uri": "https://localhost:8080/"
        },
        "id": "l0vwcJdf3NLi",
        "outputId": "4383e766-d35f-40c1-ee73-74305dc57cfe"
      },
      "execution_count": 27,
      "outputs": [
        {
          "output_type": "stream",
          "name": "stdout",
          "text": [
            "Stacking Accuracy: 0.8533333333333334\n"
          ]
        }
      ]
    },
    {
      "cell_type": "code",
      "source": [
        "#17\n",
        "import pandas as pd\n",
        "import numpy as np\n",
        "from sklearn.ensemble import RandomForestClassifier\n",
        "from sklearn.datasets import load_iris\n",
        "from sklearn.model_selection import train_test_split\n",
        "\n",
        "# Load dataset\n",
        "data = load_iris()\n",
        "X = pd.DataFrame(data.data, columns=data.feature_names)\n",
        "y = data.target\n",
        "feature_names = X.columns\n",
        "\n",
        "# Split the dataset\n",
        "X_train, X_test, y_train, y_test = train_test_split(X, y, test_size=0.2, random_state=42)\n",
        "\n",
        "# Train the Random Forest Classifier\n",
        "rf = RandomForestClassifier(random_state=42)\n",
        "rf.fit(X_train, y_train)\n",
        "\n",
        "# Get feature importances\n",
        "importances = rf.feature_importances_\n",
        "top5 = np.argsort(importances)[-5:][::-1]  # Top 5 important features\n",
        "\n",
        "# Print the top 5 features\n",
        "print(\"Top 5 Important Features:\")\n",
        "print(pd.Series(importances, index=feature_names).iloc[top5])\n"
      ],
      "metadata": {
        "colab": {
          "base_uri": "https://localhost:8080/"
        },
        "id": "arj61ZvD3WdJ",
        "outputId": "0fd1e427-5f9a-49f0-cfed-19ad76ae749a"
      },
      "execution_count": 44,
      "outputs": [
        {
          "output_type": "stream",
          "name": "stdout",
          "text": [
            "Top 5 Important Features:\n",
            "petal length (cm)    0.439994\n",
            "petal width (cm)     0.421522\n",
            "sepal length (cm)    0.108098\n",
            "sepal width (cm)     0.030387\n",
            "dtype: float64\n"
          ]
        }
      ]
    },
    {
      "cell_type": "code",
      "source": [
        "#18\n",
        "from sklearn.metrics import precision_score, recall_score, f1_score\n",
        "\n",
        "bag = BaggingClassifier().fit(X_train, y_train)\n",
        "y_pred = bag.predict(X_test)\n",
        "print(\"Precision:\", precision_score(y_test, y_pred, average='macro'))\n",
        "print(\"Recall:\", recall_score(y_test, y_pred, average='macro'))\n",
        "print(\"F1-score:\", f1_score(y_test, y_pred, average='macro'))\n"
      ],
      "metadata": {
        "colab": {
          "base_uri": "https://localhost:8080/"
        },
        "id": "qtM2p3Dt3nF9",
        "outputId": "2ae293b4-75a5-404d-e06d-356fe547b755"
      },
      "execution_count": 29,
      "outputs": [
        {
          "output_type": "stream",
          "name": "stdout",
          "text": [
            "Precision: 0.8640366482832236\n",
            "Recall: 0.8641824249165739\n",
            "F1-score: 0.8633318147979422\n"
          ]
        }
      ]
    },
    {
      "cell_type": "code",
      "source": [
        "#19\n",
        "for depth in [5, 10, 20, None]:\n",
        "    rf = RandomForestClassifier(max_depth=depth)\n",
        "    rf.fit(X_train, y_train)\n",
        "    print(f\"max_depth={depth}, Accuracy: {rf.score(X_test, y_test)}\")\n"
      ],
      "metadata": {
        "colab": {
          "base_uri": "https://localhost:8080/"
        },
        "id": "_zswhAsG3pg4",
        "outputId": "1e264610-11c3-410d-9f0c-4978a31ded08"
      },
      "execution_count": 30,
      "outputs": [
        {
          "output_type": "stream",
          "name": "stdout",
          "text": [
            "max_depth=5, Accuracy: 0.8466666666666667\n",
            "max_depth=10, Accuracy: 0.8666666666666667\n",
            "max_depth=20, Accuracy: 0.8633333333333333\n",
            "max_depth=None, Accuracy: 0.86\n"
          ]
        }
      ]
    },
    {
      "cell_type": "code",
      "source": [
        "#20\n",
        "from sklearn.neighbors import KNeighborsRegressor\n",
        "\n",
        "for base in [DecisionTreeRegressor(), KNeighborsRegressor()]:\n",
        "    model = BaggingRegressor(estimator=base, n_estimators=10)\n",
        "    model.fit(X_train, y_train)\n",
        "    print(f\"{base.__class__.__name__}, Score: {model.score(X_test, y_test)}\")\n"
      ],
      "metadata": {
        "colab": {
          "base_uri": "https://localhost:8080/"
        },
        "id": "RTMQNGkw3uAo",
        "outputId": "c992e695-55b3-4200-81b8-593db76e0b64"
      },
      "execution_count": 32,
      "outputs": [
        {
          "output_type": "stream",
          "name": "stdout",
          "text": [
            "DecisionTreeRegressor, Score: 0.580333704115684\n",
            "KNeighborsRegressor, Score: 0.42894949944382643\n"
          ]
        }
      ]
    },
    {
      "cell_type": "code",
      "source": [
        "#21\n",
        "from sklearn.metrics import roc_auc_score\n",
        "\n",
        "rf = RandomForestClassifier().fit(X_train, y_train)\n",
        "y_proba = rf.predict_proba(X_test)[:, 1]\n",
        "print(\"ROC-AUC Score:\", roc_auc_score(y_test, y_proba))\n"
      ],
      "metadata": {
        "colab": {
          "base_uri": "https://localhost:8080/"
        },
        "id": "lqjPlEt_30Jg",
        "outputId": "4a1edea6-8254-4771-9a23-631a4d33f99f"
      },
      "execution_count": 33,
      "outputs": [
        {
          "output_type": "stream",
          "name": "stdout",
          "text": [
            "ROC-AUC Score: 0.9257842046718576\n"
          ]
        }
      ]
    },
    {
      "cell_type": "code",
      "source": [
        "#22\n",
        "from sklearn.datasets import load_iris\n",
        "from sklearn.ensemble import BaggingClassifier\n",
        "from sklearn.model_selection import cross_val_score\n",
        "from sklearn.tree import DecisionTreeClassifier\n",
        "\n",
        "# Load a sample dataset\n",
        "data = load_iris()\n",
        "X, y = data.data, data.target\n",
        "\n",
        "# Initialize Bagging Classifier with a base estimator\n",
        "bag = BaggingClassifier(estimator=DecisionTreeClassifier(), n_estimators=10, random_state=42)\n",
        "\n",
        "# Perform cross-validation\n",
        "scores = cross_val_score(bag, X, y, cv=5)\n",
        "\n",
        "# Print average accuracy\n",
        "print(\"Cross-validation Accuracy:\", scores.mean())\n"
      ],
      "metadata": {
        "colab": {
          "base_uri": "https://localhost:8080/"
        },
        "id": "1Tmu-73G35cT",
        "outputId": "4a872860-d0fd-4eed-ca99-01ead75c730f"
      },
      "execution_count": 43,
      "outputs": [
        {
          "output_type": "stream",
          "name": "stdout",
          "text": [
            "Cross-validation Accuracy: 0.9533333333333334\n"
          ]
        }
      ]
    },
    {
      "cell_type": "code",
      "source": [
        "#23\n",
        "from sklearn.metrics import precision_recall_curve\n",
        "import matplotlib.pyplot as plt\n",
        "\n",
        "y_scores = rf.predict_proba(X_test)[:, 1]\n",
        "precision, recall, _ = precision_recall_curve(y_test, y_scores)\n",
        "plt.plot(recall, precision)\n",
        "plt.xlabel(\"Recall\")\n",
        "plt.ylabel(\"Precision\")\n",
        "plt.title(\"Precision-Recall Curve\")\n",
        "plt.show()\n"
      ],
      "metadata": {
        "colab": {
          "base_uri": "https://localhost:8080/",
          "height": 472
        },
        "id": "1OfR2mml4IXm",
        "outputId": "9a0a68e6-3e8d-4141-eafe-1fd6c586dd7b"
      },
      "execution_count": 37,
      "outputs": [
        {
          "output_type": "display_data",
          "data": {
            "text/plain": [
              "<Figure size 640x480 with 1 Axes>"
            ],
            "image/png": "[encoded data removed]"
          },
          "metadata": {}
        }
      ]
    },
    {
      "cell_type": "code",
      "source": [
        "#24\n",
        "estimators = [\n",
        "    ('rf', RandomForestClassifier()),\n",
        "]\n",
        "stack = StackingClassifier(estimators=estimators, final_estimator=LogisticRegression())\n",
        "stack.fit(X_train, y_train)\n",
        "print(\"Stacking Accuracy:\", stack.score(X_test, y_test))\n"
      ],
      "metadata": {
        "colab": {
          "base_uri": "https://localhost:8080/"
        },
        "id": "IxkCqaqD4M7m",
        "outputId": "242c3625-1b9a-47c1-ddf4-0bc2136ff6d7"
      },
      "execution_count": 38,
      "outputs": [
        {
          "output_type": "stream",
          "name": "stdout",
          "text": [
            "Stacking Accuracy: 0.8666666666666667\n"
          ]
        }
      ]
    },
    {
      "cell_type": "code",
      "source": [
        "#25\n",
        "for b in [0.5, 0.7, 1.0]:\n",
        "    bag = BaggingRegressor(n_estimators=50, max_samples=b)\n",
        "    bag.fit(X_train, y_train)\n",
        "    print(f\"Bootstrap Sample={b}, Score: {bag.score(X_test, y_test)}\")\n"
      ],
      "metadata": {
        "colab": {
          "base_uri": "https://localhost:8080/"
        },
        "id": "IKonAB-D4XHg",
        "outputId": "073d119c-2e82-4c13-e582-e223afce5189"
      },
      "execution_count": 39,
      "outputs": [
        {
          "output_type": "stream",
          "name": "stdout",
          "text": [
            "Bootstrap Sample=0.5, Score: 0.5847599555061178\n",
            "Bootstrap Sample=0.7, Score: 0.5762384872080089\n",
            "Bootstrap Sample=1.0, Score: 0.5981454949944383\n"
          ]
        }
      ]
    }
  ]
}